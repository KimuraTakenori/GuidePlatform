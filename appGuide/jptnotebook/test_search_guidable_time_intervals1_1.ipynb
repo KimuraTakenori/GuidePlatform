{
 "cells": [
  {
   "cell_type": "code",
   "execution_count": 1,
   "metadata": {},
   "outputs": [],
   "source": [
    "# https://stackoverflow.com/questions/35483328/how-to-setup-jupyter-ipython-notebook-for-django\n",
    "\n",
    "# Error may occur just once after creating the note.\n",
    "\n",
    "from copy import copy, deepcopy\n",
    "\n",
    "import os, sys\n",
    "import platform\n",
    "\n",
    "if platform.system() == \"Windows\":\n",
    "    # For Windows\n",
    "    django_root_dir = r\"C:\\Users\\rsaito\\rs_Webs\\rs_WebSystem\\WebSys_IAB2\\IAB_MetaD1F1\"\n",
    "    os.chdir(django_root_dir)\n",
    "    sys.path.insert(0, django_root_dir)\n",
    "else:\n",
    "    # For UNIX\n",
    "    PWD = os.getenv('PWD')\n",
    "    os.chdir(PWD)\n",
    "    sys.path.insert(0, os.getenv('PWD'))\n",
    "\n",
    "os.environ.setdefault(\"DJANGO_SETTINGS_MODULE\", \"local_settings.py\")\n",
    "import django\n",
    "django.setup()"
   ]
  },
  {
   "cell_type": "code",
   "execution_count": 14,
   "metadata": {},
   "outputs": [
    {
     "data": {
      "text/plain": [
       "<Reservation: 真田 幸村: 2020/03/17 15:00:00 - 2020/03/17 15:30:00 @ 与謝野 晶子>"
      ]
     },
     "execution_count": 14,
     "metadata": {},
     "output_type": "execute_result"
    }
   ],
   "source": [
    "from appGuide.models import *\n",
    "from appGuide.modules.datetime_with_timezone1 import datetime_str_localize\n",
    "from appGuide.modules.search_guidable_time_intervals1_1 import extract_guidable_time_intervals\n",
    "\n",
    "GuidableTime.objects.all().delete()\n",
    "Reservation.objects.all().delete()\n",
    "\n",
    "gt1 = GuidableTime.objects.create(\n",
    "    guide = Guide.objects.get(guide_sei = \"真田\",\n",
    "                                                  guide_mei = \"幸村\"),\n",
    "    guidable_time_from = datetime_str_localize(\"2020-03-17 10:00\"),\n",
    "    guidable_time_to   = datetime_str_localize(\"2020-03-17 16:00\"))\n",
    "\n",
    "Reservation.objects.create(\n",
    "    tourist = Tourist.objects.get(user_sei = \"与謝野\", user_mei = \"晶子\"),\n",
    "    reservation_ymdt = localtime(),\n",
    "    reservation_time_from =  datetime_str_localize(\"2020-03-17 13:00\"),\n",
    "    reservation_time_to     =  datetime_str_localize(\"2020-03-17 13:30\"),\n",
    "    spot = Spot.objects.get(place_name = \"致道博物館\"),\n",
    "    guidable_time = gt1\n",
    ")\n",
    "\n",
    "Reservation.objects.create(\n",
    "    tourist = Tourist.objects.get(user_sei = \"与謝野\", user_mei = \"晶子\"),\n",
    "    reservation_ymdt = localtime(),\n",
    "    reservation_time_from =  datetime_str_localize(\"2020-03-17 15:00\"),\n",
    "    reservation_time_to     =  datetime_str_localize(\"2020-03-17 15:30\"),\n",
    "    spot = Spot.objects.get(place_name = \"致道博物館\"),\n",
    "    guidable_time = gt1\n",
    ")\n"
   ]
  },
  {
   "cell_type": "code",
   "execution_count": 18,
   "metadata": {},
   "outputs": [
    {
     "data": {
      "text/plain": [
       "(datetime.datetime(2020, 3, 17, 12, 0, tzinfo=<DstTzInfo 'Asia/Tokyo' JST+9:00:00 STD>),datetime.datetime(2020, 3, 17, 4, 0, tzinfo=<UTC>)] | [datetime.datetime(2020, 3, 17, 4, 30, tzinfo=<UTC>),datetime.datetime(2020, 3, 17, 6, 0, tzinfo=<UTC>)] | [datetime.datetime(2020, 3, 17, 6, 30, tzinfo=<UTC>),datetime.datetime(2020, 3, 17, 16, 0, tzinfo=<DstTzInfo 'Asia/Tokyo' JST+9:00:00 STD>))"
      ]
     },
     "execution_count": 18,
     "metadata": {},
     "output_type": "execute_result"
    }
   ],
   "source": [
    "\n",
    "extract_guidable_time_intervals(\n",
    "    gt1,\n",
    "    request_time_from = datetime_str_localize(\"2020-03-17 12:00\"),\n",
    "    request_time_to = datetime_str_localize(\"2020-03-17 16:00\"))\n"
   ]
  },
  {
   "cell_type": "code",
   "execution_count": 6,
   "metadata": {},
   "outputs": [
    {
     "data": {
      "text/plain": [
       "datetime.datetime(2020, 3, 17, 10, 0, tzinfo=<DstTzInfo 'Asia/Tokyo' JST+9:00:00 STD>)"
      ]
     },
     "execution_count": 6,
     "metadata": {},
     "output_type": "execute_result"
    }
   ],
   "source": []
  },
  {
   "cell_type": "code",
   "execution_count": null,
   "metadata": {},
   "outputs": [],
   "source": []
  }
 ],
 "metadata": {
  "kernelspec": {
   "display_name": "Django Shell-Plus",
   "language": "python",
   "name": "django_extensions"
  },
  "language_info": {
   "codemirror_mode": {
    "name": "ipython",
    "version": 3
   },
   "file_extension": ".py",
   "mimetype": "text/x-python",
   "name": "python",
   "nbconvert_exporter": "python",
   "pygments_lexer": "ipython3",
   "version": "3.7.4"
  }
 },
 "nbformat": 4,
 "nbformat_minor": 2
}
